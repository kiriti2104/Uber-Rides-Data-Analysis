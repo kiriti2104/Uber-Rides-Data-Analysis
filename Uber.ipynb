{
 "cells": [
  {
   "cell_type": "code",
   "execution_count": null,
   "metadata": {
    "id": "OmzvZ3Vk10fm"
   },
   "outputs": [],
   "source": [
    "import pandas as pd\n",
    "import matplotlib.pyplot as plt\n",
    "import seaborn as sns\n",
    "import numpy as np"
   ]
  },
  {
   "cell_type": "code",
   "execution_count": null,
   "metadata": {
    "id": "mBOJu32o12TD"
   },
   "outputs": [],
   "source": [
    "apr14 = pd.read_csv('/content/uber-raw-data-apr14.csv')\n",
    "may14 = pd.read_csv('/content/uber-raw-data-may14.csv')\n",
    "jun14 = pd.read_csv('/content/uber-raw-data-jun14.csv')\n",
    "jul14 = pd.read_csv('/content/uber-raw-data-jul14.csv')\n",
    "aug14 = pd.read_csv('/content/uber-raw-data-aug14.csv')\n",
    "sep14 = pd.read_csv('/content/uber-raw-data-sep14.csv')"
   ]
  },
  {
   "cell_type": "code",
   "execution_count": null,
   "metadata": {
    "colab": {
     "base_uri": "https://localhost:8080/",
     "height": 402
    },
    "id": "Ix4ub8gZDmLw",
    "outputId": "5e9fcce4-17ce-4a17-8257-f0a6fc891d86"
   },
   "outputs": [],
   "source": [
    "merged_df = pd.concat([apr14, may14, jun14, jul14, aug14, sep14])\n",
    "merged_df"
   ]
  },
  {
   "cell_type": "code",
   "execution_count": null,
   "metadata": {
    "id": "503MKLphEA_9"
   },
   "outputs": [],
   "source": [
    "apr14['Date/Time'] = pd.to_datetime(apr14['Date/Time'], format='%m/%d/%Y %H:%M:%S')\n",
    "may14['Date/Time'] = pd.to_datetime(may14['Date/Time'], format='%m/%d/%Y %H:%M:%S')\n",
    "jun14['Date/Time'] = pd.to_datetime(jun14['Date/Time'], format='%m/%d/%Y %H:%M:%S')\n",
    "jul14['Date/Time'] = pd.to_datetime(jul14['Date/Time'], format='%m/%d/%Y %H:%M:%S')\n",
    "aug14['Date/Time'] = pd.to_datetime(aug14['Date/Time'], format='%m/%d/%Y %H:%M:%S')\n",
    "sep14['Date/Time'] = pd.to_datetime(sep14['Date/Time'], format='%m/%d/%Y %H:%M:%S')\n",
    "merged_df['Date/Time'] = pd.to_datetime(merged_df['Date/Time'], format='%m/%d/%Y %H:%M:%S')"
   ]
  },
  {
   "cell_type": "code",
   "execution_count": null,
   "metadata": {
    "colab": {
     "base_uri": "https://localhost:8080/",
     "height": 402
    },
    "id": "Ng9rNvmiETpU",
    "outputId": "f15ca98c-d551-4f67-92f7-0f0d9cf5fe7c"
   },
   "outputs": [],
   "source": [
    "merged_df"
   ]
  },
  {
   "cell_type": "code",
   "execution_count": null,
   "metadata": {
    "id": "2SaNyIWKEiaN"
   },
   "outputs": [],
   "source": [
    "dfs = [apr14, may14, jun14, jul14, aug14, sep14, merged_df]\n",
    "current_df = dfs[0]"
   ]
  },
  {
   "cell_type": "code",
   "execution_count": null,
   "metadata": {
    "colab": {
     "base_uri": "https://localhost:8080/",
     "height": 402
    },
    "id": "1gcG3tacFRjn",
    "outputId": "f84e0fef-68bc-4f44-ee68-664200da3444"
   },
   "outputs": [],
   "source": [
    "current_df['Time'] = current_df['Date/Time'].dt.time.apply(lambda x: int(x.strftime('%H%M%S')))\n",
    "current_df"
   ]
  },
  {
   "cell_type": "code",
   "execution_count": null,
   "metadata": {
    "colab": {
     "base_uri": "https://localhost:8080/",
     "height": 296
    },
    "id": "3IA8lF2AGLFG",
    "outputId": "ec3d0c82-8a50-4c5f-d285-7a2c62d6817b"
   },
   "outputs": [],
   "source": [
    "sns.histplot(current_df['Time'])"
   ]
  },
  {
   "cell_type": "code",
   "execution_count": null,
   "metadata": {
    "id": "SHlmHdXyGYl-"
   },
   "outputs": [],
   "source": [
    "morning_df_idx = (current_df['Time'] > 50000) & (current_df['Time'] < 110000)\n",
    "morning_df = current_df[morning_df_idx]\n",
    "evening_df_idx = (current_df['Time'] > 150000) & (current_df['Time'] < 220000)\n",
    "evening_df = current_df[evening_df_idx]"
   ]
  },
  {
   "cell_type": "code",
   "execution_count": null,
   "metadata": {
    "colab": {
     "base_uri": "https://localhost:8080/",
     "height": 402
    },
    "id": "JgAZuQn5HYSm",
    "outputId": "1690e95b-a6ce-4054-d6b0-eb3d2383fefa"
   },
   "outputs": [],
   "source": [
    "morning_df"
   ]
  },
  {
   "cell_type": "code",
   "execution_count": null,
   "metadata": {
    "colab": {
     "base_uri": "https://localhost:8080/",
     "height": 402
    },
    "id": "Rg-U9P1PHaOW",
    "outputId": "d7fa3558-c263-48b8-b0b2-d70e4e59472c"
   },
   "outputs": [],
   "source": [
    "evening_df"
   ]
  },
  {
   "cell_type": "code",
   "execution_count": null,
   "metadata": {
    "colab": {
     "base_uri": "https://localhost:8080/"
    },
    "id": "NNWckUgoHinH",
    "outputId": "8a1cacd3-c6f3-4940-ad35-6dfd66ce8de7"
   },
   "outputs": [],
   "source": [
    " !pip install folium"
   ]
  },
  {
   "cell_type": "code",
   "execution_count": null,
   "metadata": {
    "id": "HRIVeznZHm4m"
   },
   "outputs": [],
   "source": [
    "import folium"
   ]
  },
  {
   "cell_type": "code",
   "execution_count": null,
   "metadata": {
    "id": "0DuOHuubHq0-"
   },
   "outputs": [],
   "source": [
    "morning_coordinates = morning_df[['Lat','Lon']].sample(10000,random_state = 10).values\n",
    "evening_coordinates = evening_df[['Lat','Lon']].sample(10000,random_state = 10).values"
   ]
  },
  {
   "cell_type": "code",
   "execution_count": null,
   "metadata": {
    "colab": {
     "base_uri": "https://localhost:8080/"
    },
    "id": "eLLPnWrIIUU2",
    "outputId": "ba7e85ba-19a8-4080-be1e-e3eee750b9bd"
   },
   "outputs": [],
   "source": [
    "morning_coordinates"
   ]
  },
  {
   "cell_type": "code",
   "execution_count": null,
   "metadata": {
    "colab": {
     "base_uri": "https://localhost:8080/"
    },
    "id": "8xpJ6KVVIp1e",
    "outputId": "4e1400fc-9421-4a1d-dcaa-efcfd83189c4"
   },
   "outputs": [],
   "source": [
    "evening_coordinates"
   ]
  },
  {
   "cell_type": "code",
   "execution_count": null,
   "metadata": {
    "colab": {
     "base_uri": "https://localhost:8080/",
     "height": 685
    },
    "id": "0N6St1YiIszX",
    "outputId": "c77c5140-2911-4856-e61a-b97836118b97"
   },
   "outputs": [],
   "source": [
    "morning_map = folium.Map(location=[40.79658011772687, -73.87341741832425], zoom_start = 12, tiles='Stamen Toner')\n",
    "for coordinate in morning_coordinates:\n",
    "  folium.CircleMarker(radius=1,location=coordinate,fill=True).add_to(morning_map)\n",
    "morning_map"
   ]
  },
  {
   "cell_type": "code",
   "execution_count": null,
   "metadata": {
    "colab": {
     "base_uri": "https://localhost:8080/",
     "height": 685
    },
    "id": "5mdX4HBJJEXx",
    "outputId": "ee1d332d-e8b8-4aa8-ef31-3239cc29e63b"
   },
   "outputs": [],
   "source": [
    "evening_map = folium.Map(location=[40.79658011772687, -73.87341741832425], zoom_start = 12, tiles='Stamen Toner')\n",
    "for coordinate in evening_coordinates:\n",
    "  folium.CircleMarker(radius=1,location=coordinate,color=\"#FF0000\",fill=True).add_to(evening_map)\n",
    "evening_map"
   ]
  },
  {
   "cell_type": "code",
   "execution_count": null,
   "metadata": {
    "id": "rJlF1JXqJSPT"
   },
   "outputs": [],
   "source": [
    "from sklearn.cluster import KMeans\n",
    "import numpy as np"
   ]
  },
  {
   "cell_type": "code",
   "execution_count": null,
   "metadata": {
    "id": "BsPgd8vJKC1y"
   },
   "outputs": [],
   "source": [
    "def evaluate_KMeans(X):\n",
    "    '''\n",
    "    function to plot inertia vs n_cluster\n",
    "    '''\n",
    "    wcss = []\n",
    "    for i in range(2,10):\n",
    "        model = KMeans(n_clusters=i, init='random', max_iter=300)\n",
    "        model.fit(X)\n",
    "        wcss.append(model.inertia_)\n",
    "    fig = plt.figure(figsize=(7,4))\n",
    "    plt.plot(range(1,10), wcss)\n",
    "    plt.show()"
   ]
  },
  {
   "cell_type": "code",
   "execution_count": null,
   "metadata": {
    "colab": {
     "base_uri": "https://localhost:8080/"
    },
    "id": "-rzA2f0AZsXm",
    "outputId": "5abc7acb-454e-4946-a84e-a01d1b8dc8ae"
   },
   "outputs": [],
   "source": [
    "model = KMeans(n_clusters=6, init='random', max_iter=300)\n",
    "model.fit(morning_df[['Lat','Lon']])"
   ]
  },
  {
   "cell_type": "code",
   "execution_count": null,
   "metadata": {
    "colab": {
     "base_uri": "https://localhost:8080/"
    },
    "id": "IwYO_AC-eawD",
    "outputId": "aa2260b9-1bf6-4a3e-eaf9-e4380e1cfc43"
   },
   "outputs": [],
   "source": [
    "morning_centroids = model.cluster_centers_\n",
    "morning_centroids"
   ]
  },
  {
   "cell_type": "code",
   "execution_count": null,
   "metadata": {
    "colab": {
     "base_uri": "https://localhost:8080/",
     "height": 685
    },
    "id": "2gupADlMeuoC",
    "outputId": "f06717ca-0dde-4249-81db-e954a814ebef"
   },
   "outputs": [],
   "source": [
    "for i, coordinate in enumerate(morning_centroids):\n",
    "    folium.Marker(coordinate, popup='Centroid {}'.format(i+1), icon=folium.Icon(color='red')).add_to(morning_map)\n",
    "morning_map"
   ]
  },
  {
   "cell_type": "code",
   "execution_count": null,
   "metadata": {
    "colab": {
     "base_uri": "https://localhost:8080/"
    },
    "id": "xlctnAh1fNgb",
    "outputId": "4730f6f7-19f6-4b74-e8b5-c84b13544e0c"
   },
   "outputs": [],
   "source": [
    "model = KMeans(n_clusters=3, init='random', max_iter=300)\n",
    "model.fit(evening_df[['Lat','Lon']])"
   ]
  },
  {
   "cell_type": "code",
   "execution_count": null,
   "metadata": {
    "colab": {
     "base_uri": "https://localhost:8080/"
    },
    "id": "l5ybGn_pfe3Z",
    "outputId": "eab14878-7103-4ae9-a592-4ce2a9510fa7"
   },
   "outputs": [],
   "source": [
    "evening_centroids = model.cluster_centers_\n",
    "evening_centroids"
   ]
  },
  {
   "cell_type": "code",
   "execution_count": null,
   "metadata": {
    "colab": {
     "base_uri": "https://localhost:8080/",
     "height": 685
    },
    "id": "PMvixo9UfipI",
    "outputId": "0a0464d1-7bf2-4711-8ce9-8efcd491e80a"
   },
   "outputs": [],
   "source": [
    "for i, coordinate in enumerate(evening_centroids):\n",
    "    folium.Marker(coordinate, popup='Centroid {}'.format(i+1), icon=folium.Icon(color='blue')).add_to(evening_map)\n",
    "evening_map"
   ]
  },
  {
   "cell_type": "code",
   "execution_count": null,
   "metadata": {
    "colab": {
     "base_uri": "https://localhost:8080/"
    },
    "id": "w4YOu3ZDflO4",
    "outputId": "931b19ed-e3d7-4954-f06c-ae6d87c2b5b7"
   },
   "outputs": [],
   "source": [
    "model = KMeans(n_clusters=6, init='random', max_iter=300)\n",
    "model.fit(current_df[['Lat','Lon']])"
   ]
  },
  {
   "cell_type": "code",
   "execution_count": null,
   "metadata": {
    "colab": {
     "base_uri": "https://localhost:8080/"
    },
    "id": "gALbMURlgg_U",
    "outputId": "c0d25ed9-f763-4a63-ae37-c3aab2a079c1"
   },
   "outputs": [],
   "source": [
    "centroids = model.cluster_centers_\n",
    "centroids"
   ]
  },
  {
   "cell_type": "code",
   "execution_count": null,
   "metadata": {
    "colab": {
     "base_uri": "https://localhost:8080/",
     "height": 685
    },
    "id": "MDEMGKVMglfB",
    "outputId": "d1dd9d29-7e91-4a63-d05d-130c5a59c33e"
   },
   "outputs": [],
   "source": [
    "map = folium.Map(location=[40.79658011772687, -73.87341741832425], zoom_start = 12, tiles='Stamen Toner')\n",
    "for i, coordinate in enumerate(centroids):\n",
    "    folium.Marker(coordinate, popup='Centroid {}'.format(i+1), icon=folium.Icon(color='blue')).add_to(map)\n",
    "map"
   ]
  },
  {
   "cell_type": "code",
   "execution_count": null,
   "metadata": {
    "colab": {
     "base_uri": "https://localhost:8080/",
     "height": 685
    },
    "id": "Ih0QXH5Kgn1y",
    "outputId": "adf4e871-213a-4d2f-e632-852ae895e463"
   },
   "outputs": [],
   "source": [
    "new_ride = (40.70647056912189, -73.91116590442799)\n",
    "folium.Marker(new_ride, popup='New Rider', icon=folium.Icon(color='green')).add_to(map)\n",
    "map"
   ]
  },
  {
   "cell_type": "code",
   "execution_count": null,
   "metadata": {
    "id": "UDI-eJ6whMlJ"
   },
   "outputs": [],
   "source": [
    "centroid_idx = model.predict([new_ride])"
   ]
  },
  {
   "cell_type": "code",
   "execution_count": null,
   "metadata": {
    "colab": {
     "base_uri": "https://localhost:8080/"
    },
    "id": "sqAXMNKihSUC",
    "outputId": "b1262440-937c-409e-a3e3-d2490a9dd25b"
   },
   "outputs": [],
   "source": [
    "centroids[centroid_idx]"
   ]
  },
  {
   "cell_type": "code",
   "execution_count": null,
   "metadata": {
    "colab": {
     "base_uri": "https://localhost:8080/",
     "height": 685
    },
    "id": "X0SgTw4HhVwJ",
    "outputId": "50ad8539-fcb1-4392-82f9-0cca64fd4889"
   },
   "outputs": [],
   "source": [
    "map = folium.Map(location=[40.79658011772687, -73.87341741832425], zoom_start = 12, tiles='Stamen Toner')\n",
    "folium.Marker(centroids[centroid_idx], icon=folium.Icon(color='red',angle=45,)).add_to(map)\n",
    "map"
   ]
  },
  {
   "cell_type": "code",
   "execution_count": null,
   "metadata": {
    "id": "-7lIR5aJhk2l"
   },
   "outputs": [],
   "source": []
  }
 ],
 "metadata": {
  "colab": {
   "provenance": []
  },
  "kernelspec": {
   "display_name": "Python 3 (ipykernel)",
   "language": "python",
   "name": "python3"
  },
  "language_info": {
   "codemirror_mode": {
    "name": "ipython",
    "version": 3
   },
   "file_extension": ".py",
   "mimetype": "text/x-python",
   "name": "python",
   "nbconvert_exporter": "python",
   "pygments_lexer": "ipython3",
   "version": "3.9.13"
  }
 },
 "nbformat": 4,
 "nbformat_minor": 1
}
